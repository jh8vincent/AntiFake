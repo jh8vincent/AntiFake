{
 "cells": [
  {
   "cell_type": "markdown",
   "metadata": {},
   "source": [
    "# FIT5120 - Industry Experience Studio Project  S1 2022\n",
    "\n",
    "### Project Name: HOTEL REVIEW ASSISTANT\n",
    "### Task Name: Data Wrangling and Machine Learning\n",
    "\n",
    "\n",
    "\n",
    "Team information\n",
    "- Team Name: AntiFake\n",
    "- Team Number: TA 36\n",
    "\n",
    "Date: 07/04/2022\n",
    "\n",
    "Version: 1.0\n",
    "\n",
    "Programming Language: Python 3.8 and Jupyter notebook\n",
    "\n",
    "Python Libraries used:\n",
    "- pandas (For data manipulation and analysis)\n",
    "- numpy (For building the fake detection algorithm)\n",
    "- re (For data extraction)"
   ]
  },
  {
   "cell_type": "markdown",
   "metadata": {},
   "source": [
    "## Table of Contents\n",
    "\n",
    "* [1. Import Library](#sec_1)\n",
    "* [2. Data Wrangling](#sec_2)\n",
    "* [3. Analysis of Review Reliability](#sec_3)\n",
    "* [4. Building the Algorithm for Review Reliablility](#sec_4)\n",
    "* [5. Data Normalisation and Generating Outputs](#sec_5)"
   ]
  },
  {
   "cell_type": "markdown",
   "metadata": {},
   "source": [
    "### 1. Import Library"
   ]
  },
  {
   "cell_type": "code",
   "execution_count": 1,
   "metadata": {},
   "outputs": [],
   "source": [
    "import pandas as pd\n",
    "import numpy as np\n",
    "import re"
   ]
  },
  {
   "cell_type": "markdown",
   "metadata": {},
   "source": [
    "### 2. Data Wrangling"
   ]
  },
  {
   "cell_type": "code",
   "execution_count": 2,
   "metadata": {},
   "outputs": [
    {
     "data": {
      "text/html": [
       "<div>\n",
       "<style scoped>\n",
       "    .dataframe tbody tr th:only-of-type {\n",
       "        vertical-align: middle;\n",
       "    }\n",
       "\n",
       "    .dataframe tbody tr th {\n",
       "        vertical-align: top;\n",
       "    }\n",
       "\n",
       "    .dataframe thead th {\n",
       "        text-align: right;\n",
       "    }\n",
       "</style>\n",
       "<table border=\"1\" class=\"dataframe\">\n",
       "  <thead>\n",
       "    <tr style=\"text-align: right;\">\n",
       "      <th></th>\n",
       "      <th>listing_id</th>\n",
       "      <th>id</th>\n",
       "      <th>date</th>\n",
       "      <th>reviewer_id</th>\n",
       "      <th>reviewer_name</th>\n",
       "      <th>comments</th>\n",
       "    </tr>\n",
       "  </thead>\n",
       "  <tbody>\n",
       "    <tr>\n",
       "      <th>0</th>\n",
       "      <td>9835</td>\n",
       "      <td>279854</td>\n",
       "      <td>2011-05-24</td>\n",
       "      <td>560832</td>\n",
       "      <td>Miriam</td>\n",
       "      <td>Very hospitable, much appreciated.\\r&lt;br/&gt;</td>\n",
       "    </tr>\n",
       "    <tr>\n",
       "      <th>1</th>\n",
       "      <td>9835</td>\n",
       "      <td>3640746</td>\n",
       "      <td>2013-02-26</td>\n",
       "      <td>5143343</td>\n",
       "      <td>Michelle</td>\n",
       "      <td>A beautiful house in a lovely quiet neighbourh...</td>\n",
       "    </tr>\n",
       "    <tr>\n",
       "      <th>2</th>\n",
       "      <td>9835</td>\n",
       "      <td>23731188</td>\n",
       "      <td>2014-12-08</td>\n",
       "      <td>2478713</td>\n",
       "      <td>Karyn</td>\n",
       "      <td>This was my first time using airbnb and it was...</td>\n",
       "    </tr>\n",
       "    <tr>\n",
       "      <th>3</th>\n",
       "      <td>9835</td>\n",
       "      <td>46588875</td>\n",
       "      <td>2015-09-12</td>\n",
       "      <td>26184717</td>\n",
       "      <td>Rosalind</td>\n",
       "      <td>I was visiting Melbourne to spend time with my...</td>\n",
       "    </tr>\n",
       "    <tr>\n",
       "      <th>4</th>\n",
       "      <td>12936</td>\n",
       "      <td>73473</td>\n",
       "      <td>2010-08-04</td>\n",
       "      <td>111479</td>\n",
       "      <td>Brian</td>\n",
       "      <td>Perfect apartment in a perfect location!!!! \\r...</td>\n",
       "    </tr>\n",
       "  </tbody>\n",
       "</table>\n",
       "</div>"
      ],
      "text/plain": [
       "   listing_id        id        date  reviewer_id reviewer_name  \\\n",
       "0        9835    279854  2011-05-24       560832        Miriam   \n",
       "1        9835   3640746  2013-02-26      5143343      Michelle   \n",
       "2        9835  23731188  2014-12-08      2478713         Karyn   \n",
       "3        9835  46588875  2015-09-12     26184717      Rosalind   \n",
       "4       12936     73473  2010-08-04       111479         Brian   \n",
       "\n",
       "                                            comments  \n",
       "0          Very hospitable, much appreciated.\\r<br/>  \n",
       "1  A beautiful house in a lovely quiet neighbourh...  \n",
       "2  This was my first time using airbnb and it was...  \n",
       "3  I was visiting Melbourne to spend time with my...  \n",
       "4  Perfect apartment in a perfect location!!!! \\r...  "
      ]
     },
     "execution_count": 2,
     "metadata": {},
     "output_type": "execute_result"
    }
   ],
   "source": [
    "df_review = pd.read_csv('reviews.csv')\n",
    "df_review.head()"
   ]
  },
  {
   "cell_type": "code",
   "execution_count": 46,
   "metadata": {},
   "outputs": [
    {
     "data": {
      "text/plain": [
       "(17832, 74)"
      ]
     },
     "execution_count": 46,
     "metadata": {},
     "output_type": "execute_result"
    }
   ],
   "source": [
    "df_listing = pd.read_csv('listings.csv')\n",
    "df_listing = df_listing.loc[~df_listing.name.isnull()] # remove null in names\n",
    "df_listing = df_listing.rename(columns={'id':'listing_id'})\n",
    "df_listing.shape"
   ]
  },
  {
   "cell_type": "code",
   "execution_count": 5,
   "metadata": {
    "scrolled": true
   },
   "outputs": [],
   "source": [
    "# merge all in dfs\n",
    "df_all = df_review.merge(df_listing, on='listing_id', how='left')"
   ]
  },
  {
   "cell_type": "code",
   "execution_count": null,
   "metadata": {},
   "outputs": [],
   "source": [
    "# if NAN -> Property information not available at the moment\n",
    "not_available = 'Property information not available at the moment'\n",
    "df_all.review_scores_accuracy = df_all.apply(lambda x: not_available if pd.isnull(x['review_scores_accuracy']) else str(x['review_scores_accuracy']), axis=1)"
   ]
  },
  {
   "cell_type": "markdown",
   "metadata": {},
   "source": [
    "### 3. Analysis of Review Reliability"
   ]
  },
  {
   "cell_type": "code",
   "execution_count": null,
   "metadata": {},
   "outputs": [],
   "source": [
    "# Import pre-trained NLP model\n",
    "from transformers import AutoTokenizer, AutoModelForSequenceClassification\n",
    "from transformers import pipeline\n",
    "\n",
    "# Using the piepline to generate the result for testing data\n",
    "tokenizer = AutoTokenizer.from_pretrained(\"nlptown/bert-base-multilingual-uncased-sentiment\")\n",
    "model = AutoModelForSequenceClassification.from_pretrained(\"nlptown/bert-base-multilingual-uncased-sentiment\")\n",
    "generator = pipeline(task=\"text-classification\", model=model, tokenizer=tokenizer)"
   ]
  },
  {
   "cell_type": "code",
   "execution_count": null,
   "metadata": {},
   "outputs": [],
   "source": [
    "# Building the function for generate the predicted review star rating and its probability\n",
    "# Group by listing ids, HAS NON-VALUE\n",
    "def get_stars(message, generator):\n",
    "    \"\"\"\n",
    "    Output: (stars: number, probability)\n",
    "    \"\"\"\n",
    "    if pd.isnull(message):\n",
    "        return (5, 1)\n",
    "    message = message[:512]\n",
    "    message = re.sub('\\r<br/>', ' ', message)\n",
    "    result = generator(message)[0].values()\n",
    "    result = list(result)\n",
    "    stars = int(result[0][0])\n",
    "    prob = float(result[1])\n",
    "    return (stars, prob)"
   ]
  },
  {
   "cell_type": "code",
   "execution_count": null,
   "metadata": {},
   "outputs": [],
   "source": [
    "# Set the default star rating as '1' if review is null\n",
    "star_prob_lst = df_all.comments.apply(lambda x: get_stars(x[:512], generator) if not pd.isnull(x) else (True, 1))\n",
    "star_lst = [each[0] for each in star_prob_lst.values]\n",
    "prob_lst = [each[1] for each in star_prob_lst.values ]\n",
    "\n",
    "# Appending into meraged dataframe\n",
    "df_all['Predicted_star'] = star_lst\n",
    "df_all['Predicted_star_Probability'] = prob_lst"
   ]
  },
  {
   "cell_type": "markdown",
   "metadata": {},
   "source": [
    "### 4. Building the Algorithm for Review Reliablility"
   ]
  },
  {
   "cell_type": "code",
   "execution_count": 14,
   "metadata": {
    "scrolled": true
   },
   "outputs": [],
   "source": [
    "# Define the function to validate the review_scores_rating and its difference\n",
    "def reliable(review_scores_rating, predicted_star):\n",
    "    if not review_scores_rating:\n",
    "        return 1\n",
    "    diff = abs(predicted_star - review_scores_rating)/review_scores_rating\n",
    "    if diff > 1:\n",
    "        return 0\n",
    "    return 1- diff\n",
    "\n",
    "# Generating the Reliable probability\n",
    "df_all['Reliable_probability'] = df_all.apply(lambda x: reliable(x['review_scores_rating'], x['Predicted_star']), axis=1)"
   ]
  },
  {
   "cell_type": "code",
   "execution_count": 17,
   "metadata": {},
   "outputs": [],
   "source": [
    "# Calculate the overall Review Accuracy for each listing\n",
    "Overall_Reliable_probability = df_all.groupby(['name']).mean()['Reliable_probability']\n",
    "# merge all in dfs\n",
    "df_all = df_all.merge(Overall_Reliable_probability, on='listing_id', how='left')\n",
    "# Rename the columns\n",
    "df_all = df_all.rename(columns={\"Reliable_probability_x\": \"Reliable_probability\", \"Reliable_probability_y\": \"Overall_Reliable_probability\"})\n"
   ]
  },
  {
   "cell_type": "markdown",
   "metadata": {},
   "source": [
    "### 5. Data Normalisation and Generating Outputs"
   ]
  },
  {
   "cell_type": "code",
   "execution_count": 23,
   "metadata": {},
   "outputs": [],
   "source": [
    "# Subset and nomarlising the dataframe\n",
    "iteration1_columns = ['listing_id', 'date', 'comments', 'listing_url','last_scraped', 'name', 'description', 'neighborhood_overview',\n",
    "                     'picture_url', 'host_name', 'host_since', 'host_about', 'host_location', 'host_response_time',\n",
    "                     'host_acceptance_rate', 'latitude', 'longitude', 'property_type', 'price', \n",
    "                      'review_scores_accuracy', 'Predicted_star', 'Predicted_star_Probability', 'Reliable_probability', \n",
    "                      'Overall_Reliable_probability']\n",
    "\n",
    "df_all = df_all[iteration1_columns]\n",
    "df_all = df_all.round(2)\n",
    "\n",
    "# Generate two subsets for demonstrate the Most Reliable Reviews and Less Reliable Reviews\n",
    "df1 = df_all.sort_values('Reliable_probability',ascending = False).groupby('name').head(5).reset_index()\n",
    "df2 = df_all.sort_values('Reliable_probability',ascending = False).groupby('name').tail(5).reset_index()\n",
    "\n",
    "# Normalizing the probability representation\n",
    "df1['Reliable_probability'] = df1['Reliable_probability'] *100\n",
    "df1['Overall_Reliable_probability'] = df1['Overall_Reliable_probability'] *100\n",
    "df2['Reliable_probability'] = df2['Reliable_probability'] *100\n",
    "df2['Overall_Reliable_probability'] = df2['Overall_Reliable_probability'] *100"
   ]
  },
  {
   "cell_type": "code",
   "execution_count": 27,
   "metadata": {},
   "outputs": [],
   "source": [
    "# Calculating descrption accuracy range\n",
    "def rank(x):\n",
    "    x = float(x)\n",
    "    if x==5.0:\n",
    "        return 'high'\n",
    "    elif 4.9< x <5:\n",
    "        return 'medium-high'\n",
    "    elif 4.75<= x <=4.9:\n",
    "        return 'medium-low'\n",
    "    else:\n",
    "        return 'low'\n",
    "\n",
    "df1['descrption_accuracy_range'] = df1.apply(lambda x : rank(x['review_scores_accuracy']), axis=1)\n",
    "df2['descrption_accuracy_range'] = df2.apply(lambda x : rank(x['review_scores_accuracy']), axis=1)"
   ]
  },
  {
   "cell_type": "code",
   "execution_count": 32,
   "metadata": {},
   "outputs": [],
   "source": [
    "# Generating the outputs\n",
    "df1.to_csv('high_reliability.csv', index=False)\n",
    "df2.to_csv('low_reliability.csv', index=False)"
   ]
  }
 ],
 "metadata": {
  "kernelspec": {
   "display_name": "Python 3 (ipykernel)",
   "language": "python",
   "name": "python3"
  },
  "language_info": {
   "codemirror_mode": {
    "name": "ipython",
    "version": 3
   },
   "file_extension": ".py",
   "mimetype": "text/x-python",
   "name": "python",
   "nbconvert_exporter": "python",
   "pygments_lexer": "ipython3",
   "version": "3.10.2"
  }
 },
 "nbformat": 4,
 "nbformat_minor": 4
}
